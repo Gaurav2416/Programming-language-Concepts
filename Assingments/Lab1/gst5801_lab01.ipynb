{
 "cells": [
  {
   "cell_type": "code",
   "execution_count": null,
   "metadata": {},
   "outputs": [],
   "source": [
    "import os\n",
    "\n",
    "def getSize(path):\n",
    "    sum = 0\n",
    "    for element in os.scandir(path):\n",
    "        if element.is_file():\n",
    "            sum += element.stat().st_size\n",
    "        elif element.is_dir():\n",
    "           sum+= getSize(element.path)           \n",
    "    return sum   \n",
    "totalSize= getSize(os.getcwd())\n",
    "print(\"The Size of the directory in bytes:\",totalSize)   "
   ]
  }
 ],
 "metadata": {
  "interpreter": {
   "hash": "4b158de9dee9cdd12df4ca6f07919f74aba3858e0415eb8802c7bdbce4de9a36"
  },
  "kernelspec": {
   "display_name": "Python 3.10.4 64-bit",
   "language": "python",
   "name": "python3"
  },
  "language_info": {
   "codemirror_mode": {
    "name": "ipython",
    "version": 3
   },
   "file_extension": ".py",
   "mimetype": "text/x-python",
   "name": "python",
   "nbconvert_exporter": "python",
   "pygments_lexer": "ipython3",
   "version": "3.10.4"
  },
  "orig_nbformat": 4
 },
 "nbformat": 4,
 "nbformat_minor": 2
}
